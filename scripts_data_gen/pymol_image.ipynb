{
 "cells": [
  {
   "cell_type": "code",
   "execution_count": 2,
   "id": "ef597153-169c-42b8-bd74-19267c8b42ed",
   "metadata": {},
   "outputs": [],
   "source": [
    "import os\n",
    "import pymol\n",
    "from pymol import cmd"
   ]
  },
  {
   "cell_type": "code",
   "execution_count": 9,
   "id": "10118c88-2780-4719-ad50-375bed219e15",
   "metadata": {},
   "outputs": [],
   "source": [
    "# inputs\n",
    "input_folder = \"/Users/yeonji/Dropbox/myfolder_data/wbp_last/ahr_eq/\"\n",
    "prot_input_folder = \"/Users/yeonji/Dropbox/myfolder_data/wbp_last/ahr_eq/avg/\"\n",
    "hs_input_folder = \"/Users/yeonji/Dropbox/myfolder_data/wbp_last/ahr_eq/cc/\"\n",
    "output_folder = \"/Users/yeonji/Desktop/ComputerProject/CNN_HS_Predict/image/\"\n",
    "angles = [0, 90, 180, 270]            # z-axis"
   ]
  },
  {
   "cell_type": "code",
   "execution_count": 6,
   "id": "d6cff2fc-ae80-4508-8671-8d835f7bc1d3",
   "metadata": {},
   "outputs": [],
   "source": [
    "pymol.finish_launching(['pymol', '-cq'])  # -c: no GUI, -q: quiet mode"
   ]
  },
  {
   "cell_type": "code",
   "execution_count": 8,
   "id": "a1516e15-ae08-43eb-a9eb-3f4d035b1e0e",
   "metadata": {},
   "outputs": [],
   "source": [
    "os.makedirs(output_folder, exist_ok=True)"
   ]
  },
  {
   "cell_type": "code",
   "execution_count": 17,
   "id": "1ec24699-5e8a-4d38-aebc-b9b24d4ee801",
   "metadata": {},
   "outputs": [],
   "source": [
    "for pdb_file in os.listdir(prot_input_folder):\n",
    "    if pdb_file.endswith(\".pdb\"):\n",
    "        pdb_id = os.path.splitext(pdb_file)[0].split(\"_\")[0]\n",
    "        full_path = os.path.join(prot_input_folder, pdb_file)\n",
    "\n",
    "        cmd.reinitialize()\n",
    "        cmd.load(full_path, pdb_id)\n",
    "        cmd.load(hs_input_folder + pdb_id + \"_ahr_eq_cc.pdb\", pdb_id+\"_cc\")\n",
    "        cmd.orient(pdb_id)\n",
    "\n",
    "        # 표면 스타일로 표시\n",
    "        cmd.hide(\"everything\")\n",
    "        cmd.show(\"surface\", pdb_id)\n",
    "        cmd.bg_color(\"white\")\n",
    "        cmd.color(\"cyan\", pdb_id)\n",
    "        \n",
    "        for angle in angles:\n",
    "            cmd.rotate(\"z\", angle)  # z축 기준 회전\n",
    "            filename = f\"{pdb_id}_z{angle}.png\"\n",
    "            save_path = os.path.join(output_folder + \"protein/\", filename)\n",
    "\n",
    "            # 고해상도 저장 (300dpi, 1024x1024)\n",
    "            cmd.png(save_path, dpi=300, width=1024, height=1024, ray=1)\n",
    "\n",
    "        cmd.hide(\"everything\", \"all\")\n",
    "        cmd.show(\"spheres\", pdb_id+\"_cc and \"+\"name O\")\n",
    "        cmd.set(\"sphere_scale\", 0.5, pdb_id+\"_cc and \"+\"name O\")\n",
    "        cmd.bg_color(\"black\")\n",
    "        cmd.set(\"ray_opaque_background\", 0)\n",
    "\n",
    "        for angle in angles:\n",
    "            cmd.rotate(\"z\", angle)  # z축 기준 회전\n",
    "            filename = f\"{pdb_id}_cc_z{angle}.png\"\n",
    "            save_path = os.path.join(output_folder + \"hs/\", filename)\n",
    "\n",
    "            # 고해상도 저장 (300dpi, 1024x1024)\n",
    "            cmd.png(save_path, dpi=300, width=1024, height=1024, ray=1)\n",
    "\n",
    "        # 색상 지정 (선택 사항)\n",
    "        # cmd.color(\"cyan\", pdb_id)\n",
    "\n"
   ]
  },
  {
   "cell_type": "code",
   "execution_count": null,
   "id": "f9db8eb7-eced-43e6-8e05-588139a3fc5d",
   "metadata": {},
   "outputs": [],
   "source": []
  }
 ],
 "metadata": {
  "kernelspec": {
   "display_name": "Python (ML_AI)",
   "language": "python",
   "name": "ml_ai"
  },
  "language_info": {
   "codemirror_mode": {
    "name": "ipython",
    "version": 3
   },
   "file_extension": ".py",
   "mimetype": "text/x-python",
   "name": "python",
   "nbconvert_exporter": "python",
   "pygments_lexer": "ipython3",
   "version": "3.9.22"
  }
 },
 "nbformat": 4,
 "nbformat_minor": 5
}
