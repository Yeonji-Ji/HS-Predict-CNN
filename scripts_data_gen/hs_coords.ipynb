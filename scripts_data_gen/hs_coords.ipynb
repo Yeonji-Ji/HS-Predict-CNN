{
 "cells": [
  {
   "cell_type": "code",
   "execution_count": 2,
   "id": "2ae6d09b-871c-4aac-b818-e328e7593a9c",
   "metadata": {},
   "outputs": [],
   "source": [
    "import numpy as np\n",
    "import cv2\n",
    "from Bio.PDB import PDBParser"
   ]
  },
  {
   "cell_type": "code",
   "execution_count": 3,
   "id": "fd52b55b-86be-4c63-9ad3-e363a9f48f35",
   "metadata": {},
   "outputs": [],
   "source": [
    "def extract_water_coords(pdb_path):\n",
    "    parser = PDBParser(QUIET=True)\n",
    "    structure = parser.get_structure(\"water\", pdb_path)\n",
    "    coords = []\n",
    "\n",
    "    for model in structure:\n",
    "        for chain in model:\n",
    "            for residue in chain:\n",
    "                for atom in residue:\n",
    "                    coords.append(atom.coord)\n",
    "    return np.array(coords)"
   ]
  },
  {
   "cell_type": "code",
   "execution_count": 4,
   "id": "5587da61-826c-4ca9-bee4-e9b3c4fef2a9",
   "metadata": {},
   "outputs": [],
   "source": [
    "def project_to_2d(coords_3d, img_size=(512, 512), axis='z'):\n",
    "    if axis == 'z':\n",
    "        projected = coords_3d[:, :2]\n",
    "    elif axis == 'y':\n",
    "        projected = coords_3d[:, [0, 2]]\n",
    "    elif axis == 'x':\n",
    "        projected = coords_3d[:, 1:]\n",
    "    else:\n",
    "        raise ValueError(\"Invalid axis\")\n",
    "\n",
    "    # Normalize to image pixel space\n",
    "    min_vals = projected.min(axis=0)\n",
    "    max_vals = projected.max(axis=0)\n",
    "    norm_coords = (projected - min_vals) / (max_vals - min_vals + 1e-8)\n",
    "    pixel_coords = (norm_coords * np.array(img_size)).astype(int)\n",
    "    return pixel_coords"
   ]
  },
  {
   "cell_type": "code",
   "execution_count": 5,
   "id": "123b7740-0c9a-49b3-8b00-463481b2ffe9",
   "metadata": {},
   "outputs": [],
   "source": [
    "def create_mask(pixel_coords, img_size=(512, 512), radius=3):\n",
    "    mask = np.zeros(img_size, dtype=np.uint8)\n",
    "    for (x, y) in pixel_coords:\n",
    "        if 0 <= x < img_size[0] and 0 <= y < img_size[1]:\n",
    "            cv2.circle(mask, (x, y), radius, 255, -1)  # white circles\n",
    "    return mask"
   ]
  },
  {
   "cell_type": "code",
   "execution_count": 7,
   "id": "1623db8c-b757-4ed4-8f38-7913ad3a6bb4",
   "metadata": {},
   "outputs": [
    {
     "data": {
      "text/plain": [
       "True"
      ]
     },
     "execution_count": 7,
     "metadata": {},
     "output_type": "execute_result"
    }
   ],
   "source": [
    "inpath = \"/Users/yeonji/Dropbox/myfolder_data/wbp_last/ahr_eq/cc/\"\n",
    "outpath = \"/Users/yeonji/Desktop/ComputerProject/CNN_HS_Predict/hs_image/\"\n",
    "coords = extract_water_coords(inpath + \"xiap_ahr_eq_cc.pdb\")\n",
    "pixel_coords = project_to_2d(coords, img_size=(512, 512), axis='z')\n",
    "mask = create_mask(pixel_coords, img_size=(512, 512), radius=4)\n",
    "cv2.imwrite(outpath + \"xiap_ahr.png\", mask)"
   ]
  },
  {
   "cell_type": "code",
   "execution_count": 9,
   "id": "8db90268-895f-40bc-994a-c6d6fc6a1fa0",
   "metadata": {},
   "outputs": [],
   "source": [
    "import glob\n",
    "hs_files = glob.glob(inpath + \"*pdb\")\n",
    "for file in hs_files:\n",
    "    target = file.split(\"/\")[-1].split(\"_\")[0]\n",
    "    coords = extract_water_coords(file)\n",
    "    pixel_coords = project_to_2d(coords, img_size=(512, 512), axis='z')\n",
    "    mask = create_mask(pixel_coords, img_size=(512, 512), radius=4)\n",
    "    cv2.imwrite(outpath + target + \"_ahr.png\", mask)"
   ]
  },
  {
   "cell_type": "code",
   "execution_count": null,
   "id": "c1dff5e0-e17d-4c2e-911a-8c6b6719044c",
   "metadata": {},
   "outputs": [],
   "source": []
  }
 ],
 "metadata": {
  "kernelspec": {
   "display_name": "Python (ML_AI)",
   "language": "python",
   "name": "ml_ai"
  },
  "language_info": {
   "codemirror_mode": {
    "name": "ipython",
    "version": 3
   },
   "file_extension": ".py",
   "mimetype": "text/x-python",
   "name": "python",
   "nbconvert_exporter": "python",
   "pygments_lexer": "ipython3",
   "version": "3.9.22"
  }
 },
 "nbformat": 4,
 "nbformat_minor": 5
}
